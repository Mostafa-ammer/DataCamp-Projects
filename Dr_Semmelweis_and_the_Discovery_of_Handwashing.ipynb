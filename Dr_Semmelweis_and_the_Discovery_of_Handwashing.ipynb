{
  "cells": [
    {
      "metadata": {
        "dc": {
          "key": "13f090f9f0"
        },
        "deletable": false,
        "editable": false,
        "run_control": {
          "frozen": true
        },
        "tags": [
          "context"
        ],
        "id": "WHPYYvYKGDfl"
      },
      "cell_type": "markdown",
      "source": [
        "## 1. Meet Dr. Ignaz Semmelweis\n",
        "\n",
        "<p>This is Dr. Ignaz Semmelweis, a Hungarian physician born in 1818 and active at the Vienna General Hospital. If Dr. Semmelweis looks troubled it's probably because he's thinking about <em>childbed fever</em>: A deadly disease affecting women that just have given birth. He is thinking about it because in the early 1840s at the Vienna General Hospital as many as 10% of the women giving birth die from it. He is thinking about it because he knows the cause of childbed fever: It's the contaminated hands of the doctors delivering the babies. And they won't listen to him and <em>wash their hands</em>!</p>\n",
        "<p>In this notebook, we're going to reanalyze the data that made Semmelweis discover the importance of <em>handwashing</em>. Let's start by looking at the data that made Semmelweis realize that something was wrong with the procedures at Vienna General Hospital.</p>"
      ]
    },
    {
      "metadata": {
        "dc": {
          "key": "13f090f9f0"
        },
        "tags": [
          "sample_code"
        ],
        "trusted": true,
        "id": "4ZXhEMrwGDfp",
        "outputId": "db5e18d2-7be4-4d07-ebc0-6941941d6967"
      },
      "cell_type": "code",
      "source": [
        "# Importing modules\n",
        "import pandas as pd\n",
        "# Read datasets/yearly_deaths_by_clinic.csv into yearly\n",
        "yearly = pd.read_csv('datasets/yearly_deaths_by_clinic.csv')\n",
        "\n",
        "# Print out yearly\n",
        "print(yearly)"
      ],
      "execution_count": null,
      "outputs": [
        {
          "output_type": "stream",
          "text": "    year  births  deaths    clinic\n0   1841    3036     237  clinic 1\n1   1842    3287     518  clinic 1\n2   1843    3060     274  clinic 1\n3   1844    3157     260  clinic 1\n4   1845    3492     241  clinic 1\n5   1846    4010     459  clinic 1\n6   1841    2442      86  clinic 2\n7   1842    2659     202  clinic 2\n8   1843    2739     164  clinic 2\n9   1844    2956      68  clinic 2\n10  1845    3241      66  clinic 2\n11  1846    3754     105  clinic 2\n",
          "name": "stdout"
        }
      ]
    },
    {
      "metadata": {
        "dc": {
          "key": "45ea098e15"
        },
        "deletable": false,
        "editable": false,
        "run_control": {
          "frozen": true
        },
        "tags": [
          "context"
        ],
        "id": "4ai5Qx4VGDfr"
      },
      "cell_type": "markdown",
      "source": [
        "## 2. The alarming number of deaths\n",
        "<p>The table above shows the number of women giving birth at the two clinics at the Vienna General Hospital for the years 1841 to 1846. You'll notice that giving birth was very dangerous; an <em>alarming</em> number of women died as the result of childbirth, most of them from childbed fever.</p>\n",
        "<p>We see this more clearly if we look at the <em>proportion of deaths</em> out of the number of women giving birth. Let's zoom in on the proportion of deaths at Clinic 1.</p>"
      ]
    },
    {
      "metadata": {
        "dc": {
          "key": "45ea098e15"
        },
        "tags": [
          "sample_code"
        ],
        "trusted": true,
        "id": "IjiwbOgyGDfr",
        "outputId": "78e1ec5a-fc55-4bbe-cbe9-9e14f5d56b66"
      },
      "cell_type": "code",
      "source": [
        "# Calculate proportion of deaths per no. births\n",
        "yearly['proportion_deaths']=yearly['deaths'] / yearly['births']\n",
        "# Extract Clinic 1 data into clinic_1 and Clinic 2 data into clinic_2\n",
        "clinic_1 = yearly[yearly['clinic']==\"clinic 1\"]\n",
        "clinic_2 = yearly[yearly['clinic']==\"clinic 2\"]\n",
        "\n",
        "# Print out clinic_1\n",
        "print(clinic_1)"
      ],
      "execution_count": null,
      "outputs": [
        {
          "output_type": "stream",
          "text": "   year  births  deaths    clinic  proportion_deaths\n0  1841    3036     237  clinic 1           0.078063\n1  1842    3287     518  clinic 1           0.157591\n2  1843    3060     274  clinic 1           0.089542\n3  1844    3157     260  clinic 1           0.082357\n4  1845    3492     241  clinic 1           0.069015\n5  1846    4010     459  clinic 1           0.114464\n",
          "name": "stdout"
        }
      ]
    },
    {
      "metadata": {
        "dc": {
          "key": "2bc9206960"
        },
        "deletable": false,
        "editable": false,
        "run_control": {
          "frozen": true
        },
        "tags": [
          "context"
        ],
        "id": "tB33skVhGDfs"
      },
      "cell_type": "markdown",
      "source": [
        "## 3. Death at the clinics\n",
        "<p>If we now plot the proportion of deaths at both Clinic 1 and Clinic 2  we'll see a curious pattern…</p>"
      ]
    },
    {
      "metadata": {
        "dc": {
          "key": "2bc9206960"
        },
        "tags": [
          "sample_code"
        ],
        "trusted": true,
        "id": "3m4KOOOhGDfs",
        "outputId": "d014ecf9-3935-44da-a856-537cc55ca6f5"
      },
      "cell_type": "code",
      "source": [
        "# Import matplotlib\n",
        "import matplotlib.pyplot as plt\n",
        "# This makes plots appear in the notebook\n",
        "%matplotlib inline\n",
        "\n",
        "# Plot yearly proportion of deaths at the two clinics\n",
        "ax = clinic_1.plot(x=\"clinic\", y=\"proportion_deaths\",\n",
        "              label=\"clinic_1\")\n",
        "clinic_2.plot(x=\"clinic\", y=\"proportion_deaths\",\n",
        "         label=\"clinic_2\", ax=ax, ylabel=\"Y Axis Label\")"
      ],
      "execution_count": null,
      "outputs": [
        {
          "output_type": "execute_result",
          "execution_count": 330,
          "data": {
            "text/plain": "<AxesSubplot:xlabel='clinic', ylabel='Y Axis Label'>"
          },
          "metadata": {}
        },
        {
          "output_type": "display_data",
          "data": {
            "text/plain": "<Figure size 432x288 with 1 Axes>",
            "image/png": "[encoded data removed]"
          },
          "metadata": {
            "needs_background": "light"
          }
        }
      ]
    },
    {
      "metadata": {
        "dc": {
          "key": "0c9fdbf550"
        },
        "deletable": false,
        "editable": false,
        "run_control": {
          "frozen": true
        },
        "tags": [
          "context"
        ],
        "id": "umjMKJkDGDfs"
      },
      "cell_type": "markdown",
      "source": [
        "## 4. The handwashing begins\n",
        "<p>Why is the proportion of deaths consistently so much higher in Clinic 1? Semmelweis saw the same pattern and was puzzled and distressed. The only difference between the clinics was that many medical students served at Clinic 1, while mostly midwife students served at Clinic 2. While the midwives only tended to the women giving birth, the medical students also spent time in the autopsy rooms examining corpses. </p>\n",
        "<p>Semmelweis started to suspect that something on the corpses spread from the hands of the medical students, caused childbed fever. So in a desperate attempt to stop the high mortality rates, he decreed: <em>Wash your hands!</em> This was an unorthodox and controversial request, nobody in Vienna knew about bacteria at this point in time. </p>\n",
        "<p>Let's load in monthly data from Clinic 1 to see if the handwashing had any effect.</p>"
      ]
    },
    {
      "metadata": {
        "dc": {
          "key": "0c9fdbf550"
        },
        "tags": [
          "sample_code"
        ],
        "trusted": true,
        "id": "aVqpBxHAGDft",
        "outputId": "fad5974f-911d-41e8-9a3f-f9cb714a73a6"
      },
      "cell_type": "code",
      "source": [
        "# Read datasets/monthly_deaths.csv into monthly\n",
        "monthly = pd.read_csv('datasets/monthly_deaths.csv',parse_dates=[\"date\"])\n",
        "monthly\n",
        "# Calculate proportion of deaths per no. births\n",
        "monthly[\"proportion_deaths\"]=monthly['deaths'] / monthly['births']\n",
        "# Print out the first rows in monthly\n",
        "monthly.head(1)"
      ],
      "execution_count": null,
      "outputs": [
        {
          "output_type": "execute_result",
          "execution_count": 332,
          "data": {
            "text/plain": "        date  births  deaths  proportion_deaths\n0 1841-01-01     254      37           0.145669",
            "text/html": "<div>\n<style scoped>\n    .dataframe tbody tr th:only-of-type {\n        vertical-align: middle;\n    }\n\n    .dataframe tbody tr th {\n        vertical-align: top;\n    }\n\n    .dataframe thead th {\n        text-align: right;\n    }\n</style>\n<table border=\"1\" class=\"dataframe\">\n  <thead>\n    <tr style=\"text-align: right;\">\n      <th></th>\n      <th>date</th>\n      <th>births</th>\n      <th>deaths</th>\n      <th>proportion_deaths</th>\n    </tr>\n  </thead>\n  <tbody>\n    <tr>\n      <th>0</th>\n      <td>1841-01-01</td>\n      <td>254</td>\n      <td>37</td>\n      <td>0.145669</td>\n    </tr>\n  </tbody>\n</table>\n</div>"
          },
          "metadata": {}
        }
      ]
    },
    {
      "metadata": {
        "dc": {
          "key": "2da2a84119"
        },
        "deletable": false,
        "editable": false,
        "run_control": {
          "frozen": true
        },
        "tags": [
          "context"
        ],
        "id": "tT49dZkMGDft"
      },
      "cell_type": "markdown",
      "source": [
        "## 5. The effect of handwashing\n",
        "<p>With the data loaded we can now look at the proportion of deaths over time. In the plot below we haven't marked where obligatory handwashing started, but it reduced the proportion of deaths to such a degree that you should be able to spot it!</p>"
      ]
    },
    {
      "metadata": {
        "dc": {
          "key": "2da2a84119"
        },
        "tags": [
          "sample_code"
        ],
        "trusted": true,
        "id": "t_oUgA-fGDft",
        "outputId": "48aa5a99-a5bb-4fa0-b33a-bfd328da12ce"
      },
      "cell_type": "code",
      "source": [
        "# Plot monthly proportion of deaths\n",
        "ax = monthly.plot(x=\"date\", y=\"proportion_deaths\",\n",
        "              label=\"date\")"
      ],
      "execution_count": null,
      "outputs": [
        {
          "output_type": "display_data",
          "data": {
            "text/plain": "<Figure size 432x288 with 1 Axes>",
            "image/png": "[encoded data removed]"
          },
          "metadata": {
            "needs_background": "light"
          }
        }
      ]
    },
    {
      "metadata": {
        "dc": {
          "key": "518e95acc5"
        },
        "deletable": false,
        "editable": false,
        "run_control": {
          "frozen": true
        },
        "tags": [
          "context"
        ],
        "id": "jVQOSY2AGDfu"
      },
      "cell_type": "markdown",
      "source": [
        "## 6. The effect of handwashing highlighted\n",
        "<p>Starting from the summer of 1847 the proportion of deaths is drastically reduced and, yes, this was when Semmelweis made handwashing obligatory. </p>\n",
        "<p>The effect of handwashing is made even more clear if we highlight this in the graph.</p>"
      ]
    },
    {
      "metadata": {
        "dc": {
          "key": "518e95acc5"
        },
        "tags": [
          "sample_code"
        ],
        "trusted": true,
        "id": "yyMqOMZlGDfu",
        "outputId": "3c74363a-c0e6-40c7-df7e-671474434522"
      },
      "cell_type": "code",
      "source": [
        "# Date when handwashing was made mandatory\n",
        "handwashing_start = pd.to_datetime('1847-06-01')\n",
        "\n",
        "# Split monthly into before and after handwashing_start\n",
        "before_washing = monthly[monthly['date']<handwashing_start]\n",
        "after_washing = monthly[monthly['date']>=handwashing_start]\n",
        "\n",
        "# Plot yearly proportion of deaths at the two clinics\n",
        "ax = before_washing.plot(x=\"date\", y=\"proportion_deaths\",\n",
        "              label=\"date_before\")\n",
        "after_washing.plot(x=\"date\", y=\"proportion_deaths\",\n",
        "         label=\"date_after\", ax=ax, ylabel=\"date_after\")"
      ],
      "execution_count": null,
      "outputs": [
        {
          "output_type": "execute_result",
          "execution_count": 336,
          "data": {
            "text/plain": "<AxesSubplot:xlabel='date', ylabel='date_after'>"
          },
          "metadata": {}
        },
        {
          "output_type": "display_data",
          "data": {
            "text/plain": "<Figure size 432x288 with 1 Axes>",
            "image/png": "[encoded data removed]"
          },
          "metadata": {
            "needs_background": "light"
          }
        }
      ]
    },
    {
      "metadata": {
        "dc": {
          "key": "586a9f9803"
        },
        "deletable": false,
        "editable": false,
        "run_control": {
          "frozen": true
        },
        "tags": [
          "context"
        ],
        "id": "G4rhTIRKGDfv"
      },
      "cell_type": "markdown",
      "source": [
        "## 7. More handwashing, fewer deaths?\n",
        "<p>Again, the graph shows that handwashing had a huge effect. How much did it reduce the monthly proportion of deaths on average?</p>"
      ]
    },
    {
      "metadata": {
        "dc": {
          "key": "586a9f9803"
        },
        "tags": [
          "sample_code"
        ],
        "trusted": true,
        "id": "0do4WgS-GDfv",
        "outputId": "50e6605d-7e11-46ee-c256-107721de6d10"
      },
      "cell_type": "code",
      "source": [
        "# Difference in mean monthly proportion of deaths due to handwashing\n",
        "before_proportion = before_washing['proportion_deaths']\n",
        "after_proportion = after_washing['proportion_deaths']\n",
        "mean_diff = after_proportion.mean()-before_proportion.mean()\n",
        "mean_diff"
      ],
      "execution_count": null,
      "outputs": [
        {
          "output_type": "execute_result",
          "execution_count": 338,
          "data": {
            "text/plain": "-0.08395660751183336"
          },
          "metadata": {}
        }
      ]
    },
    {
      "metadata": {
        "dc": {
          "key": "d8ff65292a"
        },
        "deletable": false,
        "editable": false,
        "run_control": {
          "frozen": true
        },
        "tags": [
          "context"
        ],
        "id": "gh_szHnEGDfv"
      },
      "cell_type": "markdown",
      "source": [
        "## 8. A Bootstrap analysis of Semmelweis handwashing data\n",
        "<p>It reduced the proportion of deaths by around 8 percentage points! From 10% on average to just 2% (which is still a high number by modern standards). </p>\n",
        "<p>To get a feeling for the uncertainty around how much handwashing reduces mortalities we could look at a confidence interval (here calculated using the bootstrap method).</p>"
      ]
    },
    {
      "metadata": {
        "dc": {
          "key": "d8ff65292a"
        },
        "tags": [
          "sample_code"
        ],
        "trusted": true,
        "id": "vTId5c_jGDfw",
        "outputId": "a5f33682-3511-4d67-9988-8d46a642b822"
      },
      "cell_type": "code",
      "source": [
        "# A bootstrap analysis of the reduction of deaths due to handwashing\n",
        "import numpy as np\n",
        "boot_mean_diff = []\n",
        "for i in range(3000):\n",
        "    boot_before = before_proportion.sample(frac=1, replace=True)\n",
        "    boot_after = after_proportion.sample(frac=1, replace=True)\n",
        "    boot_mean_diff.append(boot_after.mean() - boot_before.mean())\n",
        "\n",
        "# Calculating a 95% confidence interval from boot_mean_diff\n",
        "confidence_interval =pd.Series(boot_mean_diff).quantile([0.025, 0.975])\n",
        "confidence_interval"
      ],
      "execution_count": null,
      "outputs": [
        {
          "output_type": "execute_result",
          "execution_count": 351,
          "data": {
            "text/plain": "0.025   -0.101620\n0.975   -0.067619\ndtype: float64"
          },
          "metadata": {}
        }
      ]
    },
    {
      "metadata": {
        "dc": {
          "key": "0645423069"
        },
        "deletable": false,
        "editable": false,
        "run_control": {
          "frozen": true
        },
        "tags": [
          "context"
        ],
        "id": "36WYIERiGDfw"
      },
      "cell_type": "markdown",
      "source": [
        "## 9. The fate of Dr. Semmelweis\n",
        "<p>So handwashing reduced the proportion of deaths by between 6.7 and 10 percentage points, according to a 95% confidence interval. All in all, it would seem that Semmelweis had solid evidence that handwashing was a simple but highly effective procedure that could save many lives.</p>\n",
        "<p>The tragedy is that, despite the evidence, Semmelweis' theory — that childbed fever was caused by some \"substance\" (what we today know as <em>bacteria</em>) from autopsy room corpses — was ridiculed by contemporary scientists. The medical community largely rejected his discovery and in 1849 he was forced to leave the Vienna General Hospital for good.</p>\n",
        "<p>One reason for this was that statistics and statistical arguments were uncommon in medical science in the 1800s. Semmelweis only published his data as long tables of raw data, but he didn't show any graphs nor confidence intervals. If he would have had access to the analysis we've just put together he might have been more successful in getting the Viennese doctors to wash their hands.</p>"
      ]
    },
    {
      "metadata": {
        "dc": {
          "key": "0645423069"
        },
        "tags": [
          "sample_code"
        ],
        "collapsed": true,
        "trusted": true,
        "id": "KB6sl0yrGDfx"
      },
      "cell_type": "code",
      "source": [
        "# The data Semmelweis collected points to that:\n",
        "doctors_should_wash_their_hands = False"
      ],
      "execution_count": null,
      "outputs": []
    }
  ],
  "metadata": {
    "kernelspec": {
      "name": "python3",
      "display_name": "Python 3",
      "language": "python"
    },
    "language_info": {
      "name": "python",
      "version": "3.6.7",
      "mimetype": "text/x-python",
      "codemirror_mode": {
        "name": "ipython",
        "version": 3
      },
      "pygments_lexer": "ipython3",
      "nbconvert_exporter": "python",
      "file_extension": ".py"
    },
    "colab": {
      "provenance": []
    }
  },
  "nbformat": 4,
  "nbformat_minor": 0
}